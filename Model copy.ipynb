{
 "cells": [
  {
   "cell_type": "code",
   "execution_count": 13,
   "metadata": {},
   "outputs": [],
   "source": [
    "import os\n",
    "import pandas as pd"
   ]
  },
  {
   "cell_type": "code",
   "execution_count": 14,
   "metadata": {},
   "outputs": [],
   "source": [
    "Ravdess = \"C:\\\\Users\\\\Phattarapol\\\\Desktop\\\\Senior Project\\\\Ravdess\"\n",
    "Crema = \"C:\\\\Users\\\\Phattarapol\\\\Desktop\\\\Senior Project\\\\CREMA-D\"\n",
    "Tess = \"C:\\\\Users\\\\Phattarapol\\\\Desktop\\\\Senior Project\\\\TESS\"\n",
    "Savee = \"C:\\\\Users\\\\Phattarapol\\\\Desktop\\\\Senior Project\\\\SAVEE\""
   ]
  },
  {
   "cell_type": "code",
   "execution_count": 15,
   "metadata": {},
   "outputs": [
    {
     "name": "stderr",
     "output_type": "stream",
     "text": [
      "C:\\Users\\Phattarapol\\AppData\\Local\\Temp\\ipykernel_10880\\81221418.py:23: FutureWarning: A value is trying to be set on a copy of a DataFrame or Series through chained assignment using an inplace method.\n",
      "The behavior will change in pandas 3.0. This inplace method will never work because the intermediate object on which we are setting values always behaves as a copy.\n",
      "\n",
      "For example, when doing 'df[col].method(value, inplace=True)', try using 'df.method({col: value}, inplace=True)' or df[col] = df[col].method(value) instead, to perform the operation inplace on the original object.\n",
      "\n",
      "\n",
      "  Ravdess_df.Emotions.replace({1:'neutral', 2:'calm', 3:'happy', 4:'sad', 5:'angry', 6:'fear', 7:'disgust', 8:'surprise'}, inplace=True)\n"
     ]
    },
    {
     "data": {
      "text/html": [
       "<div>\n",
       "<style scoped>\n",
       "    .dataframe tbody tr th:only-of-type {\n",
       "        vertical-align: middle;\n",
       "    }\n",
       "\n",
       "    .dataframe tbody tr th {\n",
       "        vertical-align: top;\n",
       "    }\n",
       "\n",
       "    .dataframe thead th {\n",
       "        text-align: right;\n",
       "    }\n",
       "</style>\n",
       "<table border=\"1\" class=\"dataframe\">\n",
       "  <thead>\n",
       "    <tr style=\"text-align: right;\">\n",
       "      <th></th>\n",
       "      <th>Emotions</th>\n",
       "      <th>Path</th>\n",
       "    </tr>\n",
       "  </thead>\n",
       "  <tbody>\n",
       "    <tr>\n",
       "      <th>0</th>\n",
       "      <td>neutral</td>\n",
       "      <td>C:\\Users\\Phattarapol\\Desktop\\Senior Project\\Ra...</td>\n",
       "    </tr>\n",
       "    <tr>\n",
       "      <th>1</th>\n",
       "      <td>neutral</td>\n",
       "      <td>C:\\Users\\Phattarapol\\Desktop\\Senior Project\\Ra...</td>\n",
       "    </tr>\n",
       "    <tr>\n",
       "      <th>2</th>\n",
       "      <td>neutral</td>\n",
       "      <td>C:\\Users\\Phattarapol\\Desktop\\Senior Project\\Ra...</td>\n",
       "    </tr>\n",
       "    <tr>\n",
       "      <th>3</th>\n",
       "      <td>neutral</td>\n",
       "      <td>C:\\Users\\Phattarapol\\Desktop\\Senior Project\\Ra...</td>\n",
       "    </tr>\n",
       "    <tr>\n",
       "      <th>4</th>\n",
       "      <td>calm</td>\n",
       "      <td>C:\\Users\\Phattarapol\\Desktop\\Senior Project\\Ra...</td>\n",
       "    </tr>\n",
       "  </tbody>\n",
       "</table>\n",
       "</div>"
      ],
      "text/plain": [
       "  Emotions                                               Path\n",
       "0  neutral  C:\\Users\\Phattarapol\\Desktop\\Senior Project\\Ra...\n",
       "1  neutral  C:\\Users\\Phattarapol\\Desktop\\Senior Project\\Ra...\n",
       "2  neutral  C:\\Users\\Phattarapol\\Desktop\\Senior Project\\Ra...\n",
       "3  neutral  C:\\Users\\Phattarapol\\Desktop\\Senior Project\\Ra...\n",
       "4     calm  C:\\Users\\Phattarapol\\Desktop\\Senior Project\\Ra..."
      ]
     },
     "execution_count": 15,
     "metadata": {},
     "output_type": "execute_result"
    }
   ],
   "source": [
    "ravdess_directory_list = os.listdir(Ravdess)\n",
    "\n",
    "file_emotion = []\n",
    "file_path = []\n",
    "for dir in ravdess_directory_list:\n",
    "    # as their are 20 different actors in our previous directory we need to extract files for each actor.\n",
    "    actor = os.listdir(Ravdess + \"\\\\\" + dir)\n",
    "    for file in actor:\n",
    "        part = file.split('.')[0]\n",
    "        part = part.split('-')\n",
    "        # third part in each file represents the emotion associated to that file.\n",
    "        file_emotion.append(int(part[2]))\n",
    "        file_path.append(Ravdess + \"\\\\\" + dir + '\\\\' + file)\n",
    "        \n",
    "# dataframe for emotion of files\n",
    "emotion_df = pd.DataFrame(file_emotion, columns=['Emotions'])\n",
    "\n",
    "# dataframe for path of files.\n",
    "path_df = pd.DataFrame(file_path, columns=['Path'])\n",
    "Ravdess_df = pd.concat([emotion_df, path_df], axis=1)\n",
    "\n",
    "# changing integers to actual emotions.\n",
    "Ravdess_df.Emotions.replace({1:'neutral', 2:'calm', 3:'happy', 4:'sad', 5:'angry', 6:'fear', 7:'disgust', 8:'surprise'}, inplace=True)\n",
    "Ravdess_df.head()"
   ]
  },
  {
   "cell_type": "code",
   "execution_count": 16,
   "metadata": {},
   "outputs": [
    {
     "data": {
      "text/html": [
       "<div>\n",
       "<style scoped>\n",
       "    .dataframe tbody tr th:only-of-type {\n",
       "        vertical-align: middle;\n",
       "    }\n",
       "\n",
       "    .dataframe tbody tr th {\n",
       "        vertical-align: top;\n",
       "    }\n",
       "\n",
       "    .dataframe thead th {\n",
       "        text-align: right;\n",
       "    }\n",
       "</style>\n",
       "<table border=\"1\" class=\"dataframe\">\n",
       "  <thead>\n",
       "    <tr style=\"text-align: right;\">\n",
       "      <th></th>\n",
       "      <th>Emotions</th>\n",
       "      <th>Path</th>\n",
       "    </tr>\n",
       "  </thead>\n",
       "  <tbody>\n",
       "    <tr>\n",
       "      <th>0</th>\n",
       "      <td>angry</td>\n",
       "      <td>C:\\Users\\Phattarapol\\Desktop\\Senior Project\\CR...</td>\n",
       "    </tr>\n",
       "    <tr>\n",
       "      <th>1</th>\n",
       "      <td>disgust</td>\n",
       "      <td>C:\\Users\\Phattarapol\\Desktop\\Senior Project\\CR...</td>\n",
       "    </tr>\n",
       "    <tr>\n",
       "      <th>2</th>\n",
       "      <td>fear</td>\n",
       "      <td>C:\\Users\\Phattarapol\\Desktop\\Senior Project\\CR...</td>\n",
       "    </tr>\n",
       "    <tr>\n",
       "      <th>3</th>\n",
       "      <td>happy</td>\n",
       "      <td>C:\\Users\\Phattarapol\\Desktop\\Senior Project\\CR...</td>\n",
       "    </tr>\n",
       "    <tr>\n",
       "      <th>4</th>\n",
       "      <td>neutral</td>\n",
       "      <td>C:\\Users\\Phattarapol\\Desktop\\Senior Project\\CR...</td>\n",
       "    </tr>\n",
       "  </tbody>\n",
       "</table>\n",
       "</div>"
      ],
      "text/plain": [
       "  Emotions                                               Path\n",
       "0    angry  C:\\Users\\Phattarapol\\Desktop\\Senior Project\\CR...\n",
       "1  disgust  C:\\Users\\Phattarapol\\Desktop\\Senior Project\\CR...\n",
       "2     fear  C:\\Users\\Phattarapol\\Desktop\\Senior Project\\CR...\n",
       "3    happy  C:\\Users\\Phattarapol\\Desktop\\Senior Project\\CR...\n",
       "4  neutral  C:\\Users\\Phattarapol\\Desktop\\Senior Project\\CR..."
      ]
     },
     "execution_count": 16,
     "metadata": {},
     "output_type": "execute_result"
    }
   ],
   "source": [
    "crema_directory_list = os.listdir(Crema)\n",
    "\n",
    "file_emotion = []\n",
    "file_path = []\n",
    "\n",
    "for file in crema_directory_list:\n",
    "    # storing file paths\n",
    "    file_path.append(Crema + \"\\\\\" + file)\n",
    "    # storing file emotions\n",
    "    part=file.split('_')\n",
    "    if part[2] == 'SAD':\n",
    "        file_emotion.append('sad')\n",
    "    elif part[2] == 'ANG':\n",
    "        file_emotion.append('angry')\n",
    "    elif part[2] == 'DIS':\n",
    "        file_emotion.append('disgust')\n",
    "    elif part[2] == 'FEA':\n",
    "        file_emotion.append('fear')\n",
    "    elif part[2] == 'HAP':\n",
    "        file_emotion.append('happy')\n",
    "    elif part[2] == 'NEU':\n",
    "        file_emotion.append('neutral')\n",
    "    else:\n",
    "        file_emotion.append('Unknown')\n",
    "        \n",
    "# dataframe for emotion of files\n",
    "emotion_df = pd.DataFrame(file_emotion, columns=['Emotions'])\n",
    "\n",
    "# dataframe for path of files.\n",
    "path_df = pd.DataFrame(file_path, columns=['Path'])\n",
    "Crema_df = pd.concat([emotion_df, path_df], axis=1)\n",
    "Crema_df.head()"
   ]
  },
  {
   "cell_type": "code",
   "execution_count": 17,
   "metadata": {},
   "outputs": [
    {
     "data": {
      "text/html": [
       "<div>\n",
       "<style scoped>\n",
       "    .dataframe tbody tr th:only-of-type {\n",
       "        vertical-align: middle;\n",
       "    }\n",
       "\n",
       "    .dataframe tbody tr th {\n",
       "        vertical-align: top;\n",
       "    }\n",
       "\n",
       "    .dataframe thead th {\n",
       "        text-align: right;\n",
       "    }\n",
       "</style>\n",
       "<table border=\"1\" class=\"dataframe\">\n",
       "  <thead>\n",
       "    <tr style=\"text-align: right;\">\n",
       "      <th></th>\n",
       "      <th>Emotions</th>\n",
       "      <th>Path</th>\n",
       "    </tr>\n",
       "  </thead>\n",
       "  <tbody>\n",
       "    <tr>\n",
       "      <th>0</th>\n",
       "      <td>angry</td>\n",
       "      <td>C:\\Users\\Phattarapol\\Desktop\\Senior Project\\TE...</td>\n",
       "    </tr>\n",
       "    <tr>\n",
       "      <th>1</th>\n",
       "      <td>angry</td>\n",
       "      <td>C:\\Users\\Phattarapol\\Desktop\\Senior Project\\TE...</td>\n",
       "    </tr>\n",
       "    <tr>\n",
       "      <th>2</th>\n",
       "      <td>angry</td>\n",
       "      <td>C:\\Users\\Phattarapol\\Desktop\\Senior Project\\TE...</td>\n",
       "    </tr>\n",
       "    <tr>\n",
       "      <th>3</th>\n",
       "      <td>angry</td>\n",
       "      <td>C:\\Users\\Phattarapol\\Desktop\\Senior Project\\TE...</td>\n",
       "    </tr>\n",
       "    <tr>\n",
       "      <th>4</th>\n",
       "      <td>angry</td>\n",
       "      <td>C:\\Users\\Phattarapol\\Desktop\\Senior Project\\TE...</td>\n",
       "    </tr>\n",
       "  </tbody>\n",
       "</table>\n",
       "</div>"
      ],
      "text/plain": [
       "  Emotions                                               Path\n",
       "0    angry  C:\\Users\\Phattarapol\\Desktop\\Senior Project\\TE...\n",
       "1    angry  C:\\Users\\Phattarapol\\Desktop\\Senior Project\\TE...\n",
       "2    angry  C:\\Users\\Phattarapol\\Desktop\\Senior Project\\TE...\n",
       "3    angry  C:\\Users\\Phattarapol\\Desktop\\Senior Project\\TE...\n",
       "4    angry  C:\\Users\\Phattarapol\\Desktop\\Senior Project\\TE..."
      ]
     },
     "execution_count": 17,
     "metadata": {},
     "output_type": "execute_result"
    }
   ],
   "source": [
    "tess_directory_list = os.listdir(Tess)\n",
    "\n",
    "file_emotion = []\n",
    "file_path = []\n",
    "\n",
    "for dir in tess_directory_list:\n",
    "    directories = os.listdir(Tess + \"\\\\\" + dir)\n",
    "    for file in directories:\n",
    "        part = file.split('.')[0]\n",
    "        part = part.split('_')[-1]\n",
    "        if part=='ps':\n",
    "            file_emotion.append('surprise')\n",
    "        else:\n",
    "            file_emotion.append(part)\n",
    "        file_path.append(Tess + \"\\\\\" + dir + '\\\\' + file)\n",
    "        \n",
    "# dataframe for emotion of files\n",
    "emotion_df = pd.DataFrame(file_emotion, columns=['Emotions'])\n",
    "\n",
    "# dataframe for path of files.\n",
    "path_df = pd.DataFrame(file_path, columns=['Path'])\n",
    "Tess_df = pd.concat([emotion_df, path_df], axis=1)\n",
    "Tess_df.head()"
   ]
  },
  {
   "cell_type": "code",
   "execution_count": 18,
   "metadata": {},
   "outputs": [
    {
     "data": {
      "text/html": [
       "<div>\n",
       "<style scoped>\n",
       "    .dataframe tbody tr th:only-of-type {\n",
       "        vertical-align: middle;\n",
       "    }\n",
       "\n",
       "    .dataframe tbody tr th {\n",
       "        vertical-align: top;\n",
       "    }\n",
       "\n",
       "    .dataframe thead th {\n",
       "        text-align: right;\n",
       "    }\n",
       "</style>\n",
       "<table border=\"1\" class=\"dataframe\">\n",
       "  <thead>\n",
       "    <tr style=\"text-align: right;\">\n",
       "      <th></th>\n",
       "      <th>Emotions</th>\n",
       "      <th>Path</th>\n",
       "    </tr>\n",
       "  </thead>\n",
       "  <tbody>\n",
       "    <tr>\n",
       "      <th>0</th>\n",
       "      <td>angry</td>\n",
       "      <td>C:\\Users\\Phattarapol\\Desktop\\Senior Project\\SA...</td>\n",
       "    </tr>\n",
       "    <tr>\n",
       "      <th>1</th>\n",
       "      <td>angry</td>\n",
       "      <td>C:\\Users\\Phattarapol\\Desktop\\Senior Project\\SA...</td>\n",
       "    </tr>\n",
       "    <tr>\n",
       "      <th>2</th>\n",
       "      <td>angry</td>\n",
       "      <td>C:\\Users\\Phattarapol\\Desktop\\Senior Project\\SA...</td>\n",
       "    </tr>\n",
       "    <tr>\n",
       "      <th>3</th>\n",
       "      <td>angry</td>\n",
       "      <td>C:\\Users\\Phattarapol\\Desktop\\Senior Project\\SA...</td>\n",
       "    </tr>\n",
       "    <tr>\n",
       "      <th>4</th>\n",
       "      <td>angry</td>\n",
       "      <td>C:\\Users\\Phattarapol\\Desktop\\Senior Project\\SA...</td>\n",
       "    </tr>\n",
       "  </tbody>\n",
       "</table>\n",
       "</div>"
      ],
      "text/plain": [
       "  Emotions                                               Path\n",
       "0    angry  C:\\Users\\Phattarapol\\Desktop\\Senior Project\\SA...\n",
       "1    angry  C:\\Users\\Phattarapol\\Desktop\\Senior Project\\SA...\n",
       "2    angry  C:\\Users\\Phattarapol\\Desktop\\Senior Project\\SA...\n",
       "3    angry  C:\\Users\\Phattarapol\\Desktop\\Senior Project\\SA...\n",
       "4    angry  C:\\Users\\Phattarapol\\Desktop\\Senior Project\\SA..."
      ]
     },
     "execution_count": 18,
     "metadata": {},
     "output_type": "execute_result"
    }
   ],
   "source": [
    "savee_directory_list = os.listdir(Savee)\n",
    "\n",
    "file_emotion = []\n",
    "file_path = []\n",
    "\n",
    "for file in savee_directory_list:\n",
    "    file_path.append(Savee + \"\\\\\" + file)\n",
    "    part = file.split('_')[1]\n",
    "    ele = part[:-6]\n",
    "    if ele=='a':\n",
    "        file_emotion.append('angry')\n",
    "    elif ele=='d':\n",
    "        file_emotion.append('disgust')\n",
    "    elif ele=='f':\n",
    "        file_emotion.append('fear')\n",
    "    elif ele=='h':\n",
    "        file_emotion.append('happy')\n",
    "    elif ele=='n':\n",
    "        file_emotion.append('neutral')\n",
    "    elif ele=='sa':\n",
    "        file_emotion.append('sad')\n",
    "    else:\n",
    "        file_emotion.append('surprise')\n",
    "        \n",
    "# dataframe for emotion of files\n",
    "emotion_df = pd.DataFrame(file_emotion, columns=['Emotions'])\n",
    "\n",
    "# dataframe for path of files.\n",
    "path_df = pd.DataFrame(file_path, columns=['Path'])\n",
    "Savee_df = pd.concat([emotion_df, path_df], axis=1)\n",
    "Savee_df.head()"
   ]
  },
  {
   "cell_type": "code",
   "execution_count": 19,
   "metadata": {},
   "outputs": [],
   "source": [
    "data_path = pd.concat([Ravdess_df, Crema_df, Tess_df, Savee_df], axis = 0)\n",
    "emotion_map = {\n",
    "    'calm': 'neutral',\n",
    "    'surprise': 'happy',\n",
    "    'fear': 'angry',\n",
    "    'disgust': 'sad',\n",
    "}\n",
    "data_path['Emotions'] = data_path['Emotions'].replace(emotion_map)\n",
    "data_path.to_csv(\"data_path.csv\", index=False)"
   ]
  },
  {
   "cell_type": "code",
   "execution_count": 20,
   "metadata": {},
   "outputs": [
    {
     "name": "stdout",
     "output_type": "stream",
     "text": [
      "Emotions\n",
      "angry      3846\n",
      "sad        3846\n",
      "happy      2575\n",
      "neutral    1895\n",
      "Name: count, dtype: int64\n"
     ]
    },
    {
     "data": {
      "text/html": [
       "<div>\n",
       "<style scoped>\n",
       "    .dataframe tbody tr th:only-of-type {\n",
       "        vertical-align: middle;\n",
       "    }\n",
       "\n",
       "    .dataframe tbody tr th {\n",
       "        vertical-align: top;\n",
       "    }\n",
       "\n",
       "    .dataframe thead th {\n",
       "        text-align: right;\n",
       "    }\n",
       "</style>\n",
       "<table border=\"1\" class=\"dataframe\">\n",
       "  <thead>\n",
       "    <tr style=\"text-align: right;\">\n",
       "      <th></th>\n",
       "      <th>Emotions</th>\n",
       "      <th>Path</th>\n",
       "    </tr>\n",
       "  </thead>\n",
       "  <tbody>\n",
       "    <tr>\n",
       "      <th>0</th>\n",
       "      <td>neutral</td>\n",
       "      <td>C:\\Users\\Phattarapol\\Desktop\\Senior Project\\Ra...</td>\n",
       "    </tr>\n",
       "    <tr>\n",
       "      <th>1</th>\n",
       "      <td>neutral</td>\n",
       "      <td>C:\\Users\\Phattarapol\\Desktop\\Senior Project\\Ra...</td>\n",
       "    </tr>\n",
       "    <tr>\n",
       "      <th>2</th>\n",
       "      <td>neutral</td>\n",
       "      <td>C:\\Users\\Phattarapol\\Desktop\\Senior Project\\Ra...</td>\n",
       "    </tr>\n",
       "    <tr>\n",
       "      <th>3</th>\n",
       "      <td>neutral</td>\n",
       "      <td>C:\\Users\\Phattarapol\\Desktop\\Senior Project\\Ra...</td>\n",
       "    </tr>\n",
       "    <tr>\n",
       "      <th>4</th>\n",
       "      <td>neutral</td>\n",
       "      <td>C:\\Users\\Phattarapol\\Desktop\\Senior Project\\Ra...</td>\n",
       "    </tr>\n",
       "  </tbody>\n",
       "</table>\n",
       "</div>"
      ],
      "text/plain": [
       "  Emotions                                               Path\n",
       "0  neutral  C:\\Users\\Phattarapol\\Desktop\\Senior Project\\Ra...\n",
       "1  neutral  C:\\Users\\Phattarapol\\Desktop\\Senior Project\\Ra...\n",
       "2  neutral  C:\\Users\\Phattarapol\\Desktop\\Senior Project\\Ra...\n",
       "3  neutral  C:\\Users\\Phattarapol\\Desktop\\Senior Project\\Ra...\n",
       "4  neutral  C:\\Users\\Phattarapol\\Desktop\\Senior Project\\Ra..."
      ]
     },
     "execution_count": 20,
     "metadata": {},
     "output_type": "execute_result"
    }
   ],
   "source": [
    "print(data_path['Emotions'].value_counts())\n",
    "data_path.head()"
   ]
  },
  {
   "cell_type": "code",
   "execution_count": 21,
   "metadata": {},
   "outputs": [],
   "source": [
    "df = pd.read_csv(\"data_path.csv\")  # รวมทุก dataset แล้ว (หรือใช้ df เดิม)\n",
    "df[\"Path\"] = df[\"Path\"].apply(lambda x: os.path.normpath(x))\n"
   ]
  },
  {
   "cell_type": "code",
   "execution_count": 22,
   "metadata": {},
   "outputs": [
    {
     "name": "stdout",
     "output_type": "stream",
     "text": [
      "Missing files: 0\n"
     ]
    }
   ],
   "source": [
    "import os\n",
    "missing = df[~df[\"Path\"].apply(os.path.exists)]\n",
    "print(f\"Missing files: {len(missing)}\")\n"
   ]
  },
  {
   "cell_type": "code",
   "execution_count": 23,
   "metadata": {},
   "outputs": [
    {
     "name": "stdout",
     "output_type": "stream",
     "text": [
      "['neutral' 'happy' 'sad' 'angry']\n",
      "object\n"
     ]
    }
   ],
   "source": [
    "print(df[\"Emotions\"].unique())\n",
    "print(df[\"Emotions\"].dtype)"
   ]
  },
  {
   "cell_type": "code",
   "execution_count": 24,
   "metadata": {},
   "outputs": [],
   "source": [
    "# ✅ Step 1: Library\n",
    "import time\n",
    "import pandas as pd\n",
    "import torch\n",
    "import torchaudio\n",
    "from torch.utils.data import Dataset, DataLoader\n",
    "from sklearn.preprocessing import LabelEncoder\n",
    "from transformers import WhisperProcessor, WhisperModel, WhisperForConditionalGeneration\n",
    "import torch.nn as nn\n",
    "import torch.nn.functional as F\n",
    "from tqdm import tqdm\n",
    "from sklearn.utils import resample\n",
    "import random\n",
    "import torchaudio.transforms as T\n",
    "\n",
    "AUGMENTED_DIR = \"C:\\\\Users\\\\Phattarapol\\\\Desktop\\\\Senior Project\\\\DataAugment\"\n",
    "os.makedirs(AUGMENTED_DIR, exist_ok=True)\n",
    "\n",
    "def augment_and_save(waveform, sr, idx, method=\"noise\"):\n",
    "    if method == \"noise\":\n",
    "        noise = 0.005 * torch.randn_like(waveform)\n",
    "        augmented = waveform + noise\n",
    "    elif method == \"pitch\":\n",
    "        augmented = T.Resample(sr, sr)(waveform)\n",
    "        augmented = T.PitchShift(sr, n_steps=2)(augmented)\n",
    "    elif method == \"speed\":\n",
    "        speed_factor = random.uniform(0.9, 1.1)\n",
    "        augmented = T.Resample(sr, int(sr * speed_factor))(waveform)\n",
    "    else:\n",
    "        augmented = waveform\n",
    "\n",
    "    augmented = augmented.detach()\n",
    "    path = os.path.join(AUGMENTED_DIR, f\"aug_{idx}_{method}.wav\")\n",
    "    torchaudio.save(path, augmented, sr)\n",
    "    return path\n",
    "\n",
    "def balance_dataset_with_real_augmentation(df, target_per_class=3846):\n",
    "    balanced_rows = []\n",
    "    idx_counter = 0\n",
    "\n",
    "    for emotion in df[\"Emotions\"].unique():\n",
    "        df_emotion = df[df[\"Emotions\"] == emotion]\n",
    "        n_samples = len(df_emotion)\n",
    "\n",
    "        # เก็บของเดิมไว้ก่อน\n",
    "        df_emotion_copy = df_emotion.copy()\n",
    "        df_emotion_copy[\"augmented\"] = False\n",
    "        balanced_rows.append(df_emotion_copy)\n",
    "\n",
    "        if n_samples < target_per_class:\n",
    "            n_needed = target_per_class - n_samples\n",
    "            sampled = resample(df_emotion, replace=True, n_samples=n_needed, random_state=42)\n",
    "\n",
    "            augmented_rows = []\n",
    "            for _, row in sampled.iterrows():\n",
    "                waveform, sr = torchaudio.load(row[\"Path\"])\n",
    "                waveform = torchaudio.functional.resample(waveform, sr, 16000)\n",
    "                waveform = waveform.mean(dim=0, keepdim=True)\n",
    "\n",
    "                method = random.choice([\"noise\", \"pitch\", \"speed\"])\n",
    "                aug_path = augment_and_save(waveform, 16000, idx_counter, method)\n",
    "                idx_counter += 1\n",
    "\n",
    "                augmented_rows.append({\n",
    "                    \"Path\": aug_path,\n",
    "                    \"Emotions\": row[\"Emotions\"],\n",
    "                    \"augmented\": True\n",
    "                })\n",
    "\n",
    "            balanced_rows.append(pd.DataFrame(augmented_rows))\n",
    "\n",
    "        elif n_samples > target_per_class:\n",
    "            # ถ้ามีเกิน ก็ตัดลงมา\n",
    "            trimmed = resample(df_emotion, replace=False, n_samples=target_per_class, random_state=42)\n",
    "            trimmed[\"augmented\"] = False\n",
    "            balanced_rows.append(trimmed)\n",
    "\n",
    "    balanced_df = pd.concat(balanced_rows).reset_index(drop=True)\n",
    "    return balanced_df\n",
    "\n",
    "# ✅ Step 2: Dataset Class\n",
    "class SERDataset(Dataset):\n",
    "    def __init__(self, dataframe, processor, label_encoder, max_len=30):\n",
    "        self.df = dataframe\n",
    "        self.processor = processor\n",
    "        self.label_encoder = label_encoder\n",
    "        self.max_len = max_len\n",
    "\n",
    "    def __len__(self):\n",
    "        return len(self.df)\n",
    "\n",
    "    def __getitem__(self, idx):\n",
    "        path = self.df.iloc[idx]['Path']\n",
    "        label = self.df.iloc[idx]['Emotions']\n",
    "        is_aug = self.df.iloc[idx].get(\"augmented\", False)\n",
    "        \n",
    "        waveform, sr = torchaudio.load(path)\n",
    "        waveform = torchaudio.functional.resample(waveform, sr, 16000)\n",
    "\n",
    "        if waveform.shape[0] > 1:\n",
    "            waveform = waveform.mean(dim=0, keepdim=True)\n",
    "    \n",
    "        inputs = self.processor(\n",
    "            waveform.squeeze().numpy(),  # shape: [time]\n",
    "            sampling_rate=16000,\n",
    "            return_tensors=\"pt\",\n",
    "            padding=\"max_length\",\n",
    "            truncation=True\n",
    "        )\n",
    "        input_features = inputs.input_features.squeeze(0)\n",
    "\n",
    "        label_id = self.label_encoder.transform([str(label)])[0]\n",
    "        # print(f\"{idx} => {input_features.shape}\")\n",
    "\n",
    "        return {\n",
    "            \"input_features\": inputs.input_features.squeeze(0),\n",
    "            \"label\": torch.tensor(label_id, dtype=torch.long)\n",
    "        }\n",
    "\n",
    "# ✅ Step 3: Model with classifier head\n",
    "class WhisperEmotionClassifier(nn.Module):\n",
    "    def __init__(self, num_classes):\n",
    "        super().__init__()\n",
    "        self.backbone = WhisperModel.from_pretrained(\"openai/whisper-tiny\").encoder\n",
    "        # self.backbone = WhisperModel.from_pretrained(\"openai/whisper-large-v3\").encoder\n",
    "\n",
    "        hidden_size = self.backbone.config.hidden_size  # 👈 ใช้ค่าที่ถูกต้องจาก config\n",
    "        self.projector = nn.Linear(hidden_size, 256)\n",
    "        self.classifier = nn.Linear(256, num_classes)\n",
    "\n",
    "    \n",
    "\n",
    "    def forward(self, input_features):\n",
    "        outputs = self.backbone(input_features=input_features)\n",
    "        hidden = outputs.last_hidden_state.mean(dim=1)\n",
    "        x = self.projector(hidden)\n",
    "        x = F.relu(x)\n",
    "        logits = self.classifier(x)\n",
    "        return logits"
   ]
  },
  {
   "cell_type": "code",
   "execution_count": 25,
   "metadata": {},
   "outputs": [],
   "source": [
    "# Encode emotions\n",
    "label_encoder = LabelEncoder()\n",
    "df[\"Emotions\"] = label_encoder.fit_transform(df[\"Emotions\"])\n",
    "\n",
    "# ทำ augmentation และ balance dataset แค่ครั้งเดียว\n",
    "balanced_df = balance_dataset_with_real_augmentation(df, target_per_class=3846)\n",
    "balanced_df.to_csv(\"balanced_data.csv\", index=False)"
   ]
  },
  {
   "cell_type": "code",
   "execution_count": 26,
   "metadata": {},
   "outputs": [],
   "source": [
    "# 🔁 1. โหลดไฟล์ CSV ที่เคยเซฟไว้\n",
    "balanced_df = pd.read_csv(\"balanced_data.csv\")\n",
    "\n",
    "# 🔁 2. แปลง label ถ้าจำเป็น\n",
    "id2label = {0: 'angry', 1: 'happy', 2: 'neutral', 3: 'sad'}\n",
    "if balanced_df[\"Emotions\"].dtype in [int, float]:\n",
    "    balanced_df[\"Emotions\"] = balanced_df[\"Emotions\"].map(lambda x: id2label[int(x)])\n",
    "\n",
    "# 🔁 3. Encode Label\n",
    "label_encoder = LabelEncoder()\n",
    "label_encoder.fit(balanced_df[\"Emotions\"])\n",
    "\n",
    "# 🔁 4. Split ข้อมูล\n",
    "from sklearn.model_selection import train_test_split\n",
    "train_df, test_df = train_test_split(balanced_df, test_size=0.2, stratify=balanced_df[\"Emotions\"])\n",
    "\n",
    "# 🔁 5. Load processor และ dataset\n",
    "processor = WhisperProcessor.from_pretrained(\"openai/whisper-tiny\")\n",
    "train_dataset = SERDataset(train_df, processor, label_encoder)\n",
    "test_dataset = SERDataset(test_df, processor, label_encoder)\n",
    "\n",
    "# 🔁 6. Dataloader\n",
    "train_loader = DataLoader(train_dataset, batch_size=16, shuffle=True)\n",
    "test_loader = DataLoader(test_dataset, batch_size=16)"
   ]
  },
  {
   "cell_type": "code",
   "execution_count": 27,
   "metadata": {},
   "outputs": [
    {
     "name": "stdout",
     "output_type": "stream",
     "text": [
      "[2 1 3 0]\n",
      "int64\n"
     ]
    }
   ],
   "source": [
    "# label_encoder = LabelEncoder()\n",
    "# label_encoder.fit(df[\"Emotions\"].astype(str).unique())\n",
    "# df[\"Emotions\"] = label_encoder.transform(df[\"Emotions\"].astype(str))\n",
    "\n",
    "print(df[\"Emotions\"].unique())\n",
    "print(df[\"Emotions\"].dtype)"
   ]
  },
  {
   "cell_type": "code",
   "execution_count": 28,
   "metadata": {},
   "outputs": [
    {
     "name": "stdout",
     "output_type": "stream",
     "text": [
      "Emotions\n",
      "neutral    3846\n",
      "happy      3846\n",
      "sad        3846\n",
      "angry      3846\n",
      "Name: count, dtype: int64\n",
      "['neutral' 'happy' 'sad' 'angry']\n",
      "object\n"
     ]
    }
   ],
   "source": [
    "print(balanced_df[\"Emotions\"].value_counts())\n",
    "print(balanced_df[\"Emotions\"].unique())\n",
    "print(balanced_df[\"Emotions\"].dtype)"
   ]
  },
  {
   "cell_type": "code",
   "execution_count": 29,
   "metadata": {},
   "outputs": [
    {
     "name": "stdout",
     "output_type": "stream",
     "text": [
      "['angry' 'happy' 'neutral' 'sad']\n"
     ]
    }
   ],
   "source": [
    "print(label_encoder.classes_)  # ตรวจสอบค่าที่ fit เข้าไป\n"
   ]
  },
  {
   "cell_type": "code",
   "execution_count": 30,
   "metadata": {},
   "outputs": [],
   "source": [
    "def freeze_backbone(model):\n",
    "        for param in model.backbone.parameters():\n",
    "            param.requires_grad = False\n",
    "        print(\"🔒 Backbone frozen.\")\n",
    "\n",
    "def unfreeze_backbone(model):\n",
    "    for param in model.backbone.parameters():\n",
    "        param.requires_grad = True\n",
    "    print(\"🔓 Backbone unfrozen.\")"
   ]
  },
  {
   "cell_type": "markdown",
   "metadata": {},
   "source": [
    "# Freeze Training"
   ]
  },
  {
   "cell_type": "code",
   "execution_count": 31,
   "metadata": {},
   "outputs": [],
   "source": [
    "# ✅ Step 5: Training\n",
    "device = torch.device(\"cuda\" if torch.cuda.is_available() else \"cpu\")\n",
    "model = WhisperEmotionClassifier(num_classes=len(label_encoder.classes_)).to(device)"
   ]
  },
  {
   "cell_type": "code",
   "execution_count": 32,
   "metadata": {},
   "outputs": [
    {
     "name": "stdout",
     "output_type": "stream",
     "text": [
      "🔒 Backbone frozen.\n"
     ]
    },
    {
     "name": "stderr",
     "output_type": "stream",
     "text": [
      "100%|██████████| 770/770 [45:20<00:00,  3.53s/it]\n"
     ]
    },
    {
     "name": "stdout",
     "output_type": "stream",
     "text": [
      "[Freeze Phase] Epoch 1: Loss=1032.1612, Acc=0.3495\n",
      "Epoch 1 | Val Loss: 1.3116 | Val Acc: 0.4069\n",
      "✅ New best model saved.\n"
     ]
    },
    {
     "name": "stderr",
     "output_type": "stream",
     "text": [
      "100%|██████████| 770/770 [43:39<00:00,  3.40s/it]\n"
     ]
    },
    {
     "name": "stdout",
     "output_type": "stream",
     "text": [
      "[Freeze Phase] Epoch 2: Loss=991.5977, Acc=0.4120\n",
      "Epoch 2 | Val Loss: 1.2667 | Val Acc: 0.4537\n",
      "✅ New best model saved.\n"
     ]
    },
    {
     "name": "stderr",
     "output_type": "stream",
     "text": [
      "100%|██████████| 770/770 [43:58<00:00,  3.43s/it]\n"
     ]
    },
    {
     "name": "stdout",
     "output_type": "stream",
     "text": [
      "[Freeze Phase] Epoch 3: Loss=959.9750, Acc=0.4587\n",
      "Epoch 3 | Val Loss: 1.2292 | Val Acc: 0.4703\n",
      "✅ New best model saved.\n"
     ]
    },
    {
     "name": "stderr",
     "output_type": "stream",
     "text": [
      "100%|██████████| 770/770 [47:13<00:00,  3.68s/it]\n"
     ]
    },
    {
     "name": "stdout",
     "output_type": "stream",
     "text": [
      "[Freeze Phase] Epoch 4: Loss=932.7467, Acc=0.4809\n",
      "Epoch 4 | Val Loss: 1.1983 | Val Acc: 0.5008\n",
      "✅ New best model saved.\n"
     ]
    },
    {
     "name": "stderr",
     "output_type": "stream",
     "text": [
      "100%|██████████| 770/770 [46:29<00:00,  3.62s/it]\n"
     ]
    },
    {
     "name": "stdout",
     "output_type": "stream",
     "text": [
      "[Freeze Phase] Epoch 5: Loss=910.5395, Acc=0.4919\n",
      "Epoch 5 | Val Loss: 1.1709 | Val Acc: 0.5050\n",
      "✅ New best model saved.\n"
     ]
    },
    {
     "name": "stderr",
     "output_type": "stream",
     "text": [
      "100%|██████████| 770/770 [46:12<00:00,  3.60s/it]\n"
     ]
    },
    {
     "name": "stdout",
     "output_type": "stream",
     "text": [
      "[Freeze Phase] Epoch 6: Loss=892.2420, Acc=0.5123\n",
      "Epoch 6 | Val Loss: 1.1532 | Val Acc: 0.5242\n",
      "✅ New best model saved.\n"
     ]
    },
    {
     "name": "stderr",
     "output_type": "stream",
     "text": [
      "100%|██████████| 770/770 [46:03<00:00,  3.59s/it]\n"
     ]
    },
    {
     "name": "stdout",
     "output_type": "stream",
     "text": [
      "[Freeze Phase] Epoch 7: Loss=877.2648, Acc=0.5126\n",
      "Epoch 7 | Val Loss: 1.1311 | Val Acc: 0.5278\n",
      "✅ New best model saved.\n"
     ]
    },
    {
     "name": "stderr",
     "output_type": "stream",
     "text": [
      "100%|██████████| 770/770 [46:02<00:00,  3.59s/it]\n"
     ]
    },
    {
     "name": "stdout",
     "output_type": "stream",
     "text": [
      "[Freeze Phase] Epoch 8: Loss=863.9037, Acc=0.5256\n",
      "Epoch 8 | Val Loss: 1.1145 | Val Acc: 0.5444\n",
      "✅ New best model saved.\n"
     ]
    },
    {
     "name": "stderr",
     "output_type": "stream",
     "text": [
      "100%|██████████| 770/770 [46:06<00:00,  3.59s/it]\n"
     ]
    },
    {
     "name": "stdout",
     "output_type": "stream",
     "text": [
      "[Freeze Phase] Epoch 9: Loss=851.3385, Acc=0.5352\n",
      "Epoch 9 | Val Loss: 1.0997 | Val Acc: 0.5505\n",
      "✅ New best model saved.\n"
     ]
    },
    {
     "name": "stderr",
     "output_type": "stream",
     "text": [
      "100%|██████████| 770/770 [45:58<00:00,  3.58s/it]\n"
     ]
    },
    {
     "name": "stdout",
     "output_type": "stream",
     "text": [
      "[Freeze Phase] Epoch 10: Loss=839.8261, Acc=0.5419\n",
      "Epoch 10 | Val Loss: 1.0874 | Val Acc: 0.5528\n",
      "✅ New best model saved.\n"
     ]
    },
    {
     "name": "stderr",
     "output_type": "stream",
     "text": [
      "100%|██████████| 770/770 [46:18<00:00,  3.61s/it]\n"
     ]
    },
    {
     "name": "stdout",
     "output_type": "stream",
     "text": [
      "[Freeze Phase] Epoch 11: Loss=829.3163, Acc=0.5529\n",
      "Epoch 11 | Val Loss: 1.0763 | Val Acc: 0.5457\n",
      "✅ New best model saved.\n"
     ]
    },
    {
     "name": "stderr",
     "output_type": "stream",
     "text": [
      "100%|██████████| 770/770 [47:00<00:00,  3.66s/it]\n"
     ]
    },
    {
     "name": "stdout",
     "output_type": "stream",
     "text": [
      "[Freeze Phase] Epoch 12: Loss=819.6915, Acc=0.5603\n",
      "Epoch 12 | Val Loss: 1.0605 | Val Acc: 0.5778\n",
      "✅ New best model saved.\n"
     ]
    },
    {
     "name": "stderr",
     "output_type": "stream",
     "text": [
      "100%|██████████| 770/770 [47:06<00:00,  3.67s/it]\n"
     ]
    },
    {
     "name": "stdout",
     "output_type": "stream",
     "text": [
      "[Freeze Phase] Epoch 13: Loss=809.0229, Acc=0.5693\n",
      "Epoch 13 | Val Loss: 1.0505 | Val Acc: 0.5840\n",
      "✅ New best model saved.\n"
     ]
    },
    {
     "name": "stderr",
     "output_type": "stream",
     "text": [
      "100%|██████████| 770/770 [46:15<00:00,  3.60s/it]\n"
     ]
    },
    {
     "name": "stdout",
     "output_type": "stream",
     "text": [
      "[Freeze Phase] Epoch 14: Loss=800.1634, Acc=0.5772\n",
      "Epoch 14 | Val Loss: 1.0392 | Val Acc: 0.5778\n",
      "✅ New best model saved.\n"
     ]
    },
    {
     "name": "stderr",
     "output_type": "stream",
     "text": [
      "100%|██████████| 770/770 [46:10<00:00,  3.60s/it]\n"
     ]
    },
    {
     "name": "stdout",
     "output_type": "stream",
     "text": [
      "[Freeze Phase] Epoch 15: Loss=791.0489, Acc=0.5810\n",
      "Epoch 15 | Val Loss: 1.0279 | Val Acc: 0.5886\n",
      "✅ New best model saved.\n"
     ]
    },
    {
     "name": "stderr",
     "output_type": "stream",
     "text": [
      "100%|██████████| 770/770 [46:16<00:00,  3.61s/it]\n"
     ]
    },
    {
     "name": "stdout",
     "output_type": "stream",
     "text": [
      "[Freeze Phase] Epoch 16: Loss=782.8142, Acc=0.5906\n",
      "Epoch 16 | Val Loss: 1.0169 | Val Acc: 0.6019\n",
      "✅ New best model saved.\n"
     ]
    },
    {
     "name": "stderr",
     "output_type": "stream",
     "text": [
      "100%|██████████| 770/770 [46:11<00:00,  3.60s/it]\n"
     ]
    },
    {
     "name": "stdout",
     "output_type": "stream",
     "text": [
      "[Freeze Phase] Epoch 17: Loss=773.8253, Acc=0.5974\n",
      "Epoch 17 | Val Loss: 1.0067 | Val Acc: 0.6055\n",
      "✅ New best model saved.\n"
     ]
    },
    {
     "name": "stderr",
     "output_type": "stream",
     "text": [
      "100%|██████████| 770/770 [46:10<00:00,  3.60s/it]\n"
     ]
    },
    {
     "name": "stdout",
     "output_type": "stream",
     "text": [
      "[Freeze Phase] Epoch 18: Loss=765.3478, Acc=0.6059\n",
      "Epoch 18 | Val Loss: 0.9985 | Val Acc: 0.6100\n",
      "✅ New best model saved.\n"
     ]
    },
    {
     "name": "stderr",
     "output_type": "stream",
     "text": [
      "100%|██████████| 770/770 [46:16<00:00,  3.61s/it]\n"
     ]
    },
    {
     "name": "stdout",
     "output_type": "stream",
     "text": [
      "[Freeze Phase] Epoch 19: Loss=757.8294, Acc=0.6088\n",
      "Epoch 19 | Val Loss: 0.9865 | Val Acc: 0.6178\n",
      "✅ New best model saved.\n"
     ]
    },
    {
     "name": "stderr",
     "output_type": "stream",
     "text": [
      "100%|██████████| 770/770 [46:32<00:00,  3.63s/it]\n"
     ]
    },
    {
     "name": "stdout",
     "output_type": "stream",
     "text": [
      "[Freeze Phase] Epoch 20: Loss=750.8222, Acc=0.6148\n",
      "Epoch 20 | Val Loss: 0.9769 | Val Acc: 0.6253\n",
      "✅ New best model saved.\n"
     ]
    },
    {
     "name": "stderr",
     "output_type": "stream",
     "text": [
      "100%|██████████| 770/770 [47:25<00:00,  3.70s/it]\n"
     ]
    },
    {
     "name": "stdout",
     "output_type": "stream",
     "text": [
      "[Freeze Phase] Epoch 21: Loss=742.2217, Acc=0.6205\n",
      "Epoch 21 | Val Loss: 0.9698 | Val Acc: 0.6243\n",
      "✅ New best model saved.\n"
     ]
    },
    {
     "name": "stderr",
     "output_type": "stream",
     "text": [
      "100%|██████████| 770/770 [46:13<00:00,  3.60s/it]\n"
     ]
    },
    {
     "name": "stdout",
     "output_type": "stream",
     "text": [
      "[Freeze Phase] Epoch 22: Loss=735.1265, Acc=0.6266\n",
      "Epoch 22 | Val Loss: 0.9595 | Val Acc: 0.6357\n",
      "✅ New best model saved.\n"
     ]
    },
    {
     "name": "stderr",
     "output_type": "stream",
     "text": [
      "100%|██████████| 770/770 [49:21<00:00,  3.85s/it] \n"
     ]
    },
    {
     "name": "stdout",
     "output_type": "stream",
     "text": [
      "[Freeze Phase] Epoch 23: Loss=727.6242, Acc=0.6321\n",
      "Epoch 23 | Val Loss: 0.9523 | Val Acc: 0.6341\n",
      "✅ New best model saved.\n"
     ]
    },
    {
     "name": "stderr",
     "output_type": "stream",
     "text": [
      "100%|██████████| 770/770 [42:48<00:00,  3.34s/it]\n"
     ]
    },
    {
     "name": "stdout",
     "output_type": "stream",
     "text": [
      "[Freeze Phase] Epoch 24: Loss=721.9277, Acc=0.6369\n",
      "Epoch 24 | Val Loss: 0.9426 | Val Acc: 0.6458\n",
      "✅ New best model saved.\n"
     ]
    },
    {
     "name": "stderr",
     "output_type": "stream",
     "text": [
      "100%|██████████| 770/770 [44:03<00:00,  3.43s/it]\n"
     ]
    },
    {
     "name": "stdout",
     "output_type": "stream",
     "text": [
      "[Freeze Phase] Epoch 25: Loss=714.8185, Acc=0.6408\n",
      "Epoch 25 | Val Loss: 0.9359 | Val Acc: 0.6490\n",
      "✅ New best model saved.\n"
     ]
    },
    {
     "name": "stderr",
     "output_type": "stream",
     "text": [
      "100%|██████████| 770/770 [45:07<00:00,  3.52s/it]\n"
     ]
    },
    {
     "name": "stdout",
     "output_type": "stream",
     "text": [
      "[Freeze Phase] Epoch 26: Loss=708.4234, Acc=0.6496\n",
      "Epoch 26 | Val Loss: 0.9274 | Val Acc: 0.6568\n",
      "✅ New best model saved.\n"
     ]
    },
    {
     "name": "stderr",
     "output_type": "stream",
     "text": [
      "100%|██████████| 770/770 [44:44<00:00,  3.49s/it]\n"
     ]
    },
    {
     "name": "stdout",
     "output_type": "stream",
     "text": [
      "[Freeze Phase] Epoch 27: Loss=701.8578, Acc=0.6523\n",
      "Epoch 27 | Val Loss: 0.9203 | Val Acc: 0.6516\n",
      "✅ New best model saved.\n"
     ]
    },
    {
     "name": "stderr",
     "output_type": "stream",
     "text": [
      "100%|██████████| 770/770 [45:13<00:00,  3.52s/it]\n"
     ]
    },
    {
     "name": "stdout",
     "output_type": "stream",
     "text": [
      "[Freeze Phase] Epoch 28: Loss=695.7825, Acc=0.6539\n",
      "Epoch 28 | Val Loss: 0.9128 | Val Acc: 0.6565\n",
      "✅ New best model saved.\n"
     ]
    },
    {
     "name": "stderr",
     "output_type": "stream",
     "text": [
      "100%|██████████| 770/770 [47:00<00:00,  3.66s/it]\n"
     ]
    },
    {
     "name": "stdout",
     "output_type": "stream",
     "text": [
      "[Freeze Phase] Epoch 29: Loss=689.7716, Acc=0.6601\n",
      "Epoch 29 | Val Loss: 0.9060 | Val Acc: 0.6669\n",
      "✅ New best model saved.\n"
     ]
    },
    {
     "name": "stderr",
     "output_type": "stream",
     "text": [
      "100%|██████████| 770/770 [45:25<00:00,  3.54s/it]\n"
     ]
    },
    {
     "name": "stdout",
     "output_type": "stream",
     "text": [
      "[Freeze Phase] Epoch 30: Loss=685.0159, Acc=0.6621\n",
      "Epoch 30 | Val Loss: 0.8993 | Val Acc: 0.6649\n",
      "✅ New best model saved.\n"
     ]
    },
    {
     "name": "stderr",
     "output_type": "stream",
     "text": [
      "100%|██████████| 770/770 [45:22<00:00,  3.54s/it]\n"
     ]
    },
    {
     "name": "stdout",
     "output_type": "stream",
     "text": [
      "[Freeze Phase] Epoch 31: Loss=678.4305, Acc=0.6647\n",
      "Epoch 31 | Val Loss: 0.8960 | Val Acc: 0.6539\n",
      "✅ New best model saved.\n"
     ]
    },
    {
     "name": "stderr",
     "output_type": "stream",
     "text": [
      "100%|██████████| 770/770 [45:26<00:00,  3.54s/it]\n"
     ]
    },
    {
     "name": "stdout",
     "output_type": "stream",
     "text": [
      "[Freeze Phase] Epoch 32: Loss=673.8621, Acc=0.6675\n",
      "Epoch 32 | Val Loss: 0.8857 | Val Acc: 0.6679\n",
      "✅ New best model saved.\n"
     ]
    },
    {
     "name": "stderr",
     "output_type": "stream",
     "text": [
      "100%|██████████| 770/770 [45:28<00:00,  3.54s/it]\n"
     ]
    },
    {
     "name": "stdout",
     "output_type": "stream",
     "text": [
      "[Freeze Phase] Epoch 33: Loss=668.4265, Acc=0.6708\n",
      "Epoch 33 | Val Loss: 0.8809 | Val Acc: 0.6734\n",
      "✅ New best model saved.\n"
     ]
    },
    {
     "name": "stderr",
     "output_type": "stream",
     "text": [
      "100%|██████████| 770/770 [45:27<00:00,  3.54s/it]\n"
     ]
    },
    {
     "name": "stdout",
     "output_type": "stream",
     "text": [
      "[Freeze Phase] Epoch 34: Loss=663.6775, Acc=0.6711\n",
      "Epoch 34 | Val Loss: 0.8737 | Val Acc: 0.6718\n",
      "✅ New best model saved.\n"
     ]
    },
    {
     "name": "stderr",
     "output_type": "stream",
     "text": [
      "100%|██████████| 770/770 [45:21<00:00,  3.53s/it]\n"
     ]
    },
    {
     "name": "stdout",
     "output_type": "stream",
     "text": [
      "[Freeze Phase] Epoch 35: Loss=658.6229, Acc=0.6735\n",
      "Epoch 35 | Val Loss: 0.8683 | Val Acc: 0.6714\n",
      "✅ New best model saved.\n"
     ]
    },
    {
     "name": "stderr",
     "output_type": "stream",
     "text": [
      "100%|██████████| 770/770 [45:29<00:00,  3.54s/it]\n"
     ]
    },
    {
     "name": "stdout",
     "output_type": "stream",
     "text": [
      "[Freeze Phase] Epoch 36: Loss=653.8255, Acc=0.6755\n",
      "Epoch 36 | Val Loss: 0.8690 | Val Acc: 0.6747\n",
      "✅ New best model saved.\n"
     ]
    },
    {
     "name": "stderr",
     "output_type": "stream",
     "text": [
      "100%|██████████| 770/770 [46:20<00:00,  3.61s/it]\n"
     ]
    },
    {
     "name": "stdout",
     "output_type": "stream",
     "text": [
      "[Freeze Phase] Epoch 37: Loss=649.6876, Acc=0.6773\n",
      "Epoch 37 | Val Loss: 0.8569 | Val Acc: 0.6786\n",
      "✅ New best model saved.\n"
     ]
    },
    {
     "name": "stderr",
     "output_type": "stream",
     "text": [
      "100%|██████████| 770/770 [45:44<00:00,  3.56s/it]\n"
     ]
    },
    {
     "name": "stdout",
     "output_type": "stream",
     "text": [
      "[Freeze Phase] Epoch 38: Loss=645.4362, Acc=0.6805\n",
      "Epoch 38 | Val Loss: 0.8543 | Val Acc: 0.6812\n",
      "✅ New best model saved.\n"
     ]
    },
    {
     "name": "stderr",
     "output_type": "stream",
     "text": [
      "100%|██████████| 770/770 [45:38<00:00,  3.56s/it]\n"
     ]
    },
    {
     "name": "stdout",
     "output_type": "stream",
     "text": [
      "[Freeze Phase] Epoch 39: Loss=641.0567, Acc=0.6809\n",
      "Epoch 39 | Val Loss: 0.8472 | Val Acc: 0.6831\n",
      "✅ New best model saved.\n"
     ]
    },
    {
     "name": "stderr",
     "output_type": "stream",
     "text": [
      "100%|██████████| 770/770 [46:05<00:00,  3.59s/it]\n"
     ]
    },
    {
     "name": "stdout",
     "output_type": "stream",
     "text": [
      "[Freeze Phase] Epoch 40: Loss=636.6712, Acc=0.6827\n",
      "Epoch 40 | Val Loss: 0.8421 | Val Acc: 0.6835\n",
      "✅ New best model saved.\n"
     ]
    },
    {
     "name": "stderr",
     "output_type": "stream",
     "text": [
      "100%|██████████| 770/770 [45:22<00:00,  3.54s/it]\n"
     ]
    },
    {
     "name": "stdout",
     "output_type": "stream",
     "text": [
      "[Freeze Phase] Epoch 41: Loss=632.5460, Acc=0.6862\n",
      "Epoch 41 | Val Loss: 0.8379 | Val Acc: 0.6864\n",
      "✅ New best model saved.\n"
     ]
    },
    {
     "name": "stderr",
     "output_type": "stream",
     "text": [
      "100%|██████████| 770/770 [45:13<00:00,  3.52s/it]\n"
     ]
    },
    {
     "name": "stdout",
     "output_type": "stream",
     "text": [
      "[Freeze Phase] Epoch 42: Loss=629.0396, Acc=0.6874\n",
      "Epoch 42 | Val Loss: 0.8358 | Val Acc: 0.6786\n",
      "✅ New best model saved.\n"
     ]
    },
    {
     "name": "stderr",
     "output_type": "stream",
     "text": [
      "100%|██████████| 770/770 [45:27<00:00,  3.54s/it]\n"
     ]
    },
    {
     "name": "stdout",
     "output_type": "stream",
     "text": [
      "[Freeze Phase] Epoch 43: Loss=624.9590, Acc=0.6880\n",
      "Epoch 43 | Val Loss: 0.8314 | Val Acc: 0.6867\n",
      "✅ New best model saved.\n"
     ]
    },
    {
     "name": "stderr",
     "output_type": "stream",
     "text": [
      "100%|██████████| 770/770 [45:22<00:00,  3.54s/it]\n"
     ]
    },
    {
     "name": "stdout",
     "output_type": "stream",
     "text": [
      "[Freeze Phase] Epoch 44: Loss=621.4265, Acc=0.6912\n",
      "Epoch 44 | Val Loss: 0.8260 | Val Acc: 0.6867\n",
      "✅ New best model saved.\n"
     ]
    },
    {
     "name": "stderr",
     "output_type": "stream",
     "text": [
      "100%|██████████| 770/770 [45:25<00:00,  3.54s/it]\n"
     ]
    },
    {
     "name": "stdout",
     "output_type": "stream",
     "text": [
      "[Freeze Phase] Epoch 45: Loss=617.8713, Acc=0.6902\n",
      "Epoch 45 | Val Loss: 0.8245 | Val Acc: 0.6828\n",
      "⚠️ No improvement for 1 epoch(s).\n"
     ]
    },
    {
     "name": "stderr",
     "output_type": "stream",
     "text": [
      "100%|██████████| 770/770 [47:11<00:00,  3.68s/it]\n"
     ]
    },
    {
     "name": "stdout",
     "output_type": "stream",
     "text": [
      "[Freeze Phase] Epoch 46: Loss=614.9419, Acc=0.6920\n",
      "Epoch 46 | Val Loss: 0.8191 | Val Acc: 0.6952\n",
      "✅ New best model saved.\n"
     ]
    },
    {
     "name": "stderr",
     "output_type": "stream",
     "text": [
      "100%|██████████| 770/770 [45:22<00:00,  3.54s/it]\n"
     ]
    },
    {
     "name": "stdout",
     "output_type": "stream",
     "text": [
      "[Freeze Phase] Epoch 47: Loss=611.4820, Acc=0.6933\n",
      "Epoch 47 | Val Loss: 0.8163 | Val Acc: 0.6812\n",
      "✅ New best model saved.\n"
     ]
    },
    {
     "name": "stderr",
     "output_type": "stream",
     "text": [
      "100%|██████████| 770/770 [47:12<00:00,  3.68s/it]\n"
     ]
    },
    {
     "name": "stdout",
     "output_type": "stream",
     "text": [
      "[Freeze Phase] Epoch 48: Loss=608.1272, Acc=0.6952\n",
      "Epoch 48 | Val Loss: 0.8079 | Val Acc: 0.6929\n",
      "✅ New best model saved.\n"
     ]
    },
    {
     "name": "stderr",
     "output_type": "stream",
     "text": [
      "100%|██████████| 770/770 [45:03<00:00,  3.51s/it]\n"
     ]
    },
    {
     "name": "stdout",
     "output_type": "stream",
     "text": [
      "[Freeze Phase] Epoch 49: Loss=604.7244, Acc=0.6989\n",
      "Epoch 49 | Val Loss: 0.8065 | Val Acc: 0.6935\n",
      "✅ New best model saved.\n"
     ]
    },
    {
     "name": "stderr",
     "output_type": "stream",
     "text": [
      "100%|██████████| 770/770 [45:03<00:00,  3.51s/it]\n"
     ]
    },
    {
     "name": "stdout",
     "output_type": "stream",
     "text": [
      "[Freeze Phase] Epoch 50: Loss=601.6012, Acc=0.6987\n",
      "Epoch 50 | Val Loss: 0.8018 | Val Acc: 0.6984\n",
      "⚠️ No improvement for 1 epoch(s).\n"
     ]
    }
   ],
   "source": [
    "\n",
    "\n",
    "# # Load pre-trained weights if available\n",
    "# model.load_state_dict(torch.load(\"best_model.pth\"))\n",
    "# model.train()\n",
    "\n",
    "freeze_backbone(model)  # 🔒 Freeze backbone\n",
    "optimizer = torch.optim.Adam(filter(lambda p: p.requires_grad, model.parameters()), lr=2e-5)\n",
    "loss_fn = nn.CrossEntropyLoss()\n",
    "\n",
    "train_losses = []\n",
    "train_accuracies = []\n",
    "val_losses = []\n",
    "val_accuracies = []\n",
    "\n",
    "best_acc = 0\n",
    "patience = 3\n",
    "no_improve = 0\n",
    "\n",
    "for epoch in range(50):\n",
    "    if epoch % 3 == 0:\n",
    "        time.sleep(60)\n",
    "    model.train()\n",
    "    total_loss = 0\n",
    "    correct = 0\n",
    "    total = 0\n",
    "    for batch in tqdm(train_loader):\n",
    "        inputs = batch['input_features'].to(device)\n",
    "        labels = batch['label'].to(device)\n",
    "\n",
    "        outputs = model(inputs)\n",
    "        loss = loss_fn(outputs, labels)\n",
    "\n",
    "        optimizer.zero_grad()\n",
    "        loss.backward()\n",
    "        optimizer.step()\n",
    "\n",
    "        total_loss += loss.item()\n",
    "        preds = outputs.argmax(dim=1)\n",
    "        correct += (preds == labels).sum().item()\n",
    "        total += labels.size(0)\n",
    "\n",
    "    avg_loss = total_loss / len(train_loader)\n",
    "    acc = correct / total\n",
    "    train_losses.append(avg_loss)\n",
    "    train_accuracies.append(acc)\n",
    "    print(f\"[Freeze Phase] Epoch {epoch+1}: Loss={total_loss:.4f}, Acc={correct/total:.4f}\")\n",
    "\n",
    "    # ✅ Step 6: Evaluate\n",
    "    model.eval()\n",
    "    val_loss = 0\n",
    "    val_correct = 0\n",
    "    val_total = 0\n",
    "    with torch.no_grad():\n",
    "        for batch in test_loader:\n",
    "            inputs = batch['input_features'].to(device)\n",
    "            labels = batch['label'].to(device)\n",
    "\n",
    "            outputs = model(inputs)\n",
    "            loss = loss_fn(outputs, labels)\n",
    "\n",
    "            val_loss += loss.item()\n",
    "            preds = outputs.argmax(dim=1)\n",
    "            val_correct += (preds == labels).sum().item()\n",
    "            val_total += labels.size(0)\n",
    "\n",
    "    val_avg_loss = val_loss / len(test_loader)\n",
    "    val_acc = val_correct / val_total\n",
    "\n",
    "    val_losses.append(val_avg_loss)\n",
    "    val_accuracies.append(val_acc)\n",
    "\n",
    "    print(f\"Epoch {epoch+1} | Val Loss: {val_avg_loss:.4f} | Val Acc: {val_acc:.4f}\")\n",
    "\n",
    "    if acc > best_acc:\n",
    "        best_acc = acc\n",
    "        no_improve = 0\n",
    "        torch.save(model.state_dict(), \"best_model.pth\")  # บันทึกโมเดลไว้\n",
    "        print(\"✅ New best model saved.\")\n",
    "    else:\n",
    "        no_improve += 1\n",
    "        print(f\"⚠️ No improvement for {no_improve} epoch(s).\")\n",
    "\n",
    "        if no_improve >= patience:\n",
    "            print(\"🛑 Early stopping triggered.\")\n",
    "            break\n"
   ]
  },
  {
   "cell_type": "code",
   "execution_count": 33,
   "metadata": {},
   "outputs": [],
   "source": [
    "int_to_emotion = {\n",
    "    0: \"happy\",\n",
    "    1: \"sad\",\n",
    "    2: \"angry\",\n",
    "    3: \"neutral\"\n",
    "}\n",
    "df[\"Emotions\"] = df[\"Emotions\"].map(int_to_emotion)  # 👈 map เป็นชื่อก่อน fit\n",
    "\n",
    "# ตอนนี้ fit ด้วยชื่ออารมณ์แล้ว\n",
    "label_encoder = LabelEncoder()\n",
    "label_encoder.fit(df[\"Emotions\"])\n",
    "df[\"Emotions\"] = label_encoder.transform(df[\"Emotions\"])"
   ]
  },
  {
   "cell_type": "code",
   "execution_count": 34,
   "metadata": {},
   "outputs": [
    {
     "data": {
      "image/png": "[encoded data removed]",
      "text/plain": [
       "<Figure size 640x480 with 2 Axes>"
      ]
     },
     "metadata": {},
     "output_type": "display_data"
    }
   ],
   "source": [
    "from sklearn.metrics import confusion_matrix, ConfusionMatrixDisplay\n",
    "import matplotlib.pyplot as plt\n",
    "\n",
    "# โหลดโมเดลที่ดีที่สุด\n",
    "model.load_state_dict(torch.load(\"best_model.pth\"))\n",
    "model.eval()\n",
    "\n",
    "y_true = []\n",
    "y_pred = []\n",
    "\n",
    "with torch.no_grad():\n",
    "    for batch in test_loader:\n",
    "        inputs = batch['input_features'].to(device)\n",
    "        labels = batch['label'].to(device)\n",
    "\n",
    "        outputs = model(inputs)\n",
    "        preds = outputs.argmax(dim=1)\n",
    "\n",
    "        y_true.extend(labels.cpu().numpy())\n",
    "        y_pred.extend(preds.cpu().numpy())\n",
    "# คำสั่งสร้าง confusion matrix\n",
    "cm = confusion_matrix(y_true, y_pred)\n",
    "class_names = label_encoder.classes_  # คลาสอารมณ์ เช่น ['happy', 'sad', 'angry', ...]\n",
    "\n",
    "# แสดงผลแบบ heatmap\n",
    "disp = ConfusionMatrixDisplay(confusion_matrix=cm, display_labels=class_names)\n",
    "disp.plot(cmap=plt.cm.Blues, xticks_rotation=45)\n",
    "\n",
    "plt.title(\"Confusion Matrix\")\n",
    "plt.xlabel(\"Predicted Label\")\n",
    "plt.ylabel(\"True Label\")\n",
    "plt.tight_layout()\n",
    "plt.show()\n",
    "\n"
   ]
  },
  {
   "cell_type": "code",
   "execution_count": 35,
   "metadata": {},
   "outputs": [
    {
     "data": {
      "image/png": "[encoded data removed]",
      "text/plain": [
       "<Figure size 1400x500 with 2 Axes>"
      ]
     },
     "metadata": {},
     "output_type": "display_data"
    }
   ],
   "source": [
    "import matplotlib.pyplot as plt\n",
    "\n",
    "epochs = range(1, len(train_losses) + 1)\n",
    "\n",
    "plt.figure(figsize=(14, 5))\n",
    "\n",
    "# Loss Plot\n",
    "plt.subplot(1, 2, 1)\n",
    "plt.plot(epochs, train_losses, 'b-o', label=\"Training Loss\")\n",
    "plt.plot(epochs, val_losses, 'r-o', label=\"Validation Loss\")\n",
    "plt.title(\"Loss per Epoch\")\n",
    "plt.xlabel(\"Epoch\")\n",
    "plt.ylabel(\"Loss\")\n",
    "plt.legend()\n",
    "\n",
    "# Accuracy Plot\n",
    "plt.subplot(1, 2, 2)\n",
    "plt.plot(epochs, train_accuracies, 'g-o', label=\"Training Accuracy\")\n",
    "plt.plot(epochs, val_accuracies, 'orange', marker='o', label=\"Validation Accuracy\")\n",
    "plt.title(\"Accuracy per Epoch\")\n",
    "plt.xlabel(\"Epoch\")\n",
    "plt.ylabel(\"Accuracy\")\n",
    "plt.legend()\n",
    "\n",
    "plt.tight_layout()\n",
    "plt.show()\n"
   ]
  },
  {
   "cell_type": "code",
   "execution_count": 36,
   "metadata": {},
   "outputs": [
    {
     "name": "stdout",
     "output_type": "stream",
     "text": [
      "angry: 2.77%\n",
      "happy: 1.48%\n",
      "neutral: 35.09%\n",
      "sad: 60.66%\n",
      "\n",
      "✅ True Label: sad\n",
      "🤖 Predicted: sad\n"
     ]
    }
   ],
   "source": [
    "import torch.nn.functional as F\n",
    "\n",
    "# โหลดโมเดล\n",
    "model.load_state_dict(torch.load(\"best_model.pth\"))\n",
    "model.eval()\n",
    "\n",
    "# ยกตัวอย่าง input เดียวจาก test_loader\n",
    "sample = next(iter(test_loader))\n",
    "inputs = sample['input_features'].to(device)\n",
    "labels = sample['label'].to(device)\n",
    "\n",
    "# ทำ inference\n",
    "with torch.no_grad():\n",
    "    logits = model(inputs)  # shape: [batch_size, num_classes]\n",
    "    probs = F.softmax(logits, dim=1)  # convert logits → probabilities\n",
    "\n",
    "# แสดงผลความน่าจะเป็นของตัวแรกใน batch\n",
    "probs_np = probs[0].cpu().numpy()\n",
    "for i, p in enumerate(probs_np):\n",
    "    print(f\"{label_encoder.inverse_transform([i])[0]}: {p*100:.2f}%\")\n",
    "\n",
    "true_label = label_encoder.inverse_transform([labels[0].cpu().item()])[0]\n",
    "predicted_label = label_encoder.inverse_transform([probs_np.argmax()])[0]\n",
    "\n",
    "print(f\"\\n✅ True Label: {true_label}\")\n",
    "print(f\"🤖 Predicted: {predicted_label}\")\n"
   ]
  },
  {
   "cell_type": "code",
   "execution_count": 37,
   "metadata": {},
   "outputs": [
    {
     "name": "stdout",
     "output_type": "stream",
     "text": [
      "['angry' 'happy' 'neutral' 'sad']\n"
     ]
    }
   ],
   "source": [
    "print(label_encoder.classes_)"
   ]
  },
  {
   "cell_type": "code",
   "execution_count": 38,
   "metadata": {},
   "outputs": [],
   "source": [
    "# def predict_emotion(path, model, processor, label_encoder):\n",
    "#     waveform, sr = torchaudio.load(path)\n",
    "#     waveform = torchaudio.functional.resample(waveform, sr, 16000)\n",
    "#     if waveform.shape[0] > 1:\n",
    "#         waveform = waveform.mean(dim=0, keepdim=True)\n",
    "\n",
    "#     inputs = processor(waveform.squeeze().numpy(), sampling_rate=16000, return_tensors=\"pt\", padding=\"max_length\", truncation=True)\n",
    "#     input_features = inputs.input_features.to(device)\n",
    "\n",
    "#     model.eval()\n",
    "#     with torch.no_grad():\n",
    "#         logits = model(input_features)\n",
    "#         probs = F.softmax(logits, dim=1)[0].cpu().numpy()\n",
    "\n",
    "#     for i, p in enumerate(probs):\n",
    "#         print(f\"{label_encoder.inverse_transform([i])[0]}: {p*100:.2f}%\")\n"
   ]
  },
  {
   "cell_type": "markdown",
   "metadata": {},
   "source": [
    "# Train Unfreeze"
   ]
  },
  {
   "cell_type": "code",
   "execution_count": 39,
   "metadata": {},
   "outputs": [
    {
     "name": "stdout",
     "output_type": "stream",
     "text": [
      "🔓 Backbone unfrozen.\n"
     ]
    },
    {
     "name": "stderr",
     "output_type": "stream",
     "text": [
      "100%|██████████| 770/770 [1:27:58<00:00,  6.86s/it]\n"
     ]
    },
    {
     "name": "stdout",
     "output_type": "stream",
     "text": [
      "[Unfreeze Phase] Epoch 1: Loss=453.4060, Acc=0.7666\n",
      "Epoch 1 | Val Loss: 0.4838 | Val Acc: 0.8027\n",
      "✅ New best model saved.\n"
     ]
    },
    {
     "name": "stderr",
     "output_type": "stream",
     "text": [
      "100%|██████████| 770/770 [1:27:44<00:00,  6.84s/it]\n"
     ]
    },
    {
     "name": "stdout",
     "output_type": "stream",
     "text": [
      "[Unfreeze Phase] Epoch 2: Loss=293.3280, Acc=0.8501\n",
      "Epoch 2 | Val Loss: 0.3835 | Val Acc: 0.8495\n",
      "✅ New best model saved.\n"
     ]
    },
    {
     "name": "stderr",
     "output_type": "stream",
     "text": [
      "100%|██████████| 770/770 [1:27:10<00:00,  6.79s/it]\n"
     ]
    },
    {
     "name": "stdout",
     "output_type": "stream",
     "text": [
      "[Unfreeze Phase] Epoch 3: Loss=204.3428, Acc=0.8958\n",
      "Epoch 3 | Val Loss: 0.4371 | Val Acc: 0.8453\n",
      "✅ New best model saved.\n"
     ]
    },
    {
     "name": "stderr",
     "output_type": "stream",
     "text": [
      "100%|██████████| 770/770 [1:33:23<00:00,  7.28s/it]\n"
     ]
    },
    {
     "name": "stdout",
     "output_type": "stream",
     "text": [
      "[Unfreeze Phase] Epoch 4: Loss=140.3128, Acc=0.9319\n",
      "Epoch 4 | Val Loss: 0.4335 | Val Acc: 0.8541\n",
      "✅ New best model saved.\n"
     ]
    }
   ],
   "source": [
    "\n",
    "\n",
    "# # Load pre-trained weights if available\n",
    "model.load_state_dict(torch.load(\"best_model.pth\"))\n",
    "model.train()\n",
    "\n",
    "unfreeze_backbone(model)  # 🔓 Unfreeze backbone\n",
    "optimizer = torch.optim.Adam(model.parameters(), lr=1e-5)\n",
    "loss_fn = nn.CrossEntropyLoss()\n",
    "\n",
    "train_losses = []\n",
    "train_accuracies = []\n",
    "val_losses = []\n",
    "val_accuracies = []\n",
    "\n",
    "best_acc = 0\n",
    "patience = 3\n",
    "no_improve = 0\n",
    "\n",
    "for epoch in range(4):\n",
    "    if epoch % 3 == 0:\n",
    "        time.sleep(60)\n",
    "    model.train()\n",
    "    total_loss = 0\n",
    "    correct = 0\n",
    "    total = 0\n",
    "    for batch in tqdm(train_loader):\n",
    "        inputs = batch['input_features'].to(device)\n",
    "        labels = batch['label'].to(device)\n",
    "\n",
    "        outputs = model(inputs)\n",
    "        loss = loss_fn(outputs, labels)\n",
    "\n",
    "        optimizer.zero_grad()\n",
    "        loss.backward()\n",
    "        optimizer.step()\n",
    "\n",
    "        total_loss += loss.item()\n",
    "        preds = outputs.argmax(dim=1)\n",
    "        correct += (preds == labels).sum().item()\n",
    "        total += labels.size(0)\n",
    "\n",
    "    avg_loss = total_loss / len(train_loader)\n",
    "    acc = correct / total\n",
    "    train_losses.append(avg_loss)\n",
    "    train_accuracies.append(acc)\n",
    "    print(f\"[Unfreeze Phase] Epoch {epoch+1}: Loss={total_loss:.4f}, Acc={correct/total:.4f}\")\n",
    "\n",
    "    # ✅ Step 6: Evaluate\n",
    "    model.eval()\n",
    "    val_loss = 0\n",
    "    val_correct = 0\n",
    "    val_total = 0\n",
    "    with torch.no_grad():\n",
    "        for batch in test_loader:\n",
    "            inputs = batch['input_features'].to(device)\n",
    "            labels = batch['label'].to(device)\n",
    "\n",
    "            outputs = model(inputs)\n",
    "            loss = loss_fn(outputs, labels)\n",
    "\n",
    "            val_loss += loss.item()\n",
    "            preds = outputs.argmax(dim=1)\n",
    "            val_correct += (preds == labels).sum().item()\n",
    "            val_total += labels.size(0)\n",
    "\n",
    "    val_avg_loss = val_loss / len(test_loader)\n",
    "    val_acc = val_correct / val_total\n",
    "\n",
    "    val_losses.append(val_avg_loss)\n",
    "    val_accuracies.append(val_acc)\n",
    "\n",
    "    print(f\"Epoch {epoch+1} | Val Loss: {val_avg_loss:.4f} | Val Acc: {val_acc:.4f}\")\n",
    "\n",
    "    if acc > best_acc:\n",
    "        best_acc = acc\n",
    "        no_improve = 0\n",
    "        torch.save(model.state_dict(), \"best_model2.pth\")  # บันทึกโมเดลไว้\n",
    "        print(\"✅ New best model saved.\")\n",
    "    else:\n",
    "        no_improve += 1\n",
    "        print(f\"⚠️ No improvement for {no_improve} epoch(s).\")\n",
    "\n",
    "        if no_improve >= patience:\n",
    "            print(\"🛑 Early stopping triggered.\")\n",
    "            break\n"
   ]
  },
  {
   "cell_type": "code",
   "execution_count": 40,
   "metadata": {},
   "outputs": [
    {
     "data": {
      "image/png": "[encoded data removed]",
      "text/plain": [
       "<Figure size 640x480 with 2 Axes>"
      ]
     },
     "metadata": {},
     "output_type": "display_data"
    }
   ],
   "source": [
    "from sklearn.metrics import confusion_matrix, ConfusionMatrixDisplay\n",
    "import matplotlib.pyplot as plt\n",
    "\n",
    "# โหลดโมเดลที่ดีที่สุด\n",
    "model.load_state_dict(torch.load(\"best_model2.pth\"))\n",
    "model.eval()\n",
    "\n",
    "y_true = []\n",
    "y_pred = []\n",
    "\n",
    "with torch.no_grad():\n",
    "    for batch in test_loader:\n",
    "        inputs = batch['input_features'].to(device)\n",
    "        labels = batch['label'].to(device)\n",
    "\n",
    "        outputs = model(inputs)\n",
    "        preds = outputs.argmax(dim=1)\n",
    "\n",
    "        y_true.extend(labels.cpu().numpy())\n",
    "        y_pred.extend(preds.cpu().numpy())\n",
    "# คำสั่งสร้าง confusion matrix\n",
    "cm = confusion_matrix(y_true, y_pred)\n",
    "class_names = label_encoder.classes_  # คลาสอารมณ์ เช่น ['happy', 'sad', 'angry', ...]\n",
    "\n",
    "# แสดงผลแบบ heatmap\n",
    "disp = ConfusionMatrixDisplay(confusion_matrix=cm, display_labels=class_names)\n",
    "disp.plot(cmap=plt.cm.Blues, xticks_rotation=45)\n",
    "\n",
    "plt.title(\"Confusion Matrix\")\n",
    "plt.xlabel(\"Predicted Label\")\n",
    "plt.ylabel(\"True Label\")\n",
    "plt.tight_layout()\n",
    "plt.show()\n",
    "\n"
   ]
  },
  {
   "cell_type": "code",
   "execution_count": 41,
   "metadata": {},
   "outputs": [
    {
     "data": {
      "image/png": "[encoded data removed]",
      "text/plain": [
       "<Figure size 1400x500 with 2 Axes>"
      ]
     },
     "metadata": {},
     "output_type": "display_data"
    }
   ],
   "source": [
    "import matplotlib.pyplot as plt\n",
    "\n",
    "epochs = range(1, len(train_losses) + 1)\n",
    "\n",
    "plt.figure(figsize=(14, 5))\n",
    "\n",
    "# Loss Plot\n",
    "plt.subplot(1, 2, 1)\n",
    "plt.plot(epochs, train_losses, 'b-o', label=\"Training Loss\")\n",
    "plt.plot(epochs, val_losses, 'r-o', label=\"Validation Loss\")\n",
    "plt.title(\"Loss per Epoch\")\n",
    "plt.xlabel(\"Epoch\")\n",
    "plt.ylabel(\"Loss\")\n",
    "plt.legend()\n",
    "\n",
    "# Accuracy Plot\n",
    "plt.subplot(1, 2, 2)\n",
    "plt.plot(epochs, train_accuracies, 'g-o', label=\"Training Accuracy\")\n",
    "plt.plot(epochs, val_accuracies, 'orange', marker='o', label=\"Validation Accuracy\")\n",
    "plt.title(\"Accuracy per Epoch\")\n",
    "plt.xlabel(\"Epoch\")\n",
    "plt.ylabel(\"Accuracy\")\n",
    "plt.legend()\n",
    "\n",
    "plt.tight_layout()\n",
    "plt.show()\n"
   ]
  },
  {
   "cell_type": "code",
   "execution_count": 42,
   "metadata": {},
   "outputs": [
    {
     "name": "stdout",
     "output_type": "stream",
     "text": [
      "angry: 0.00%\n",
      "happy: 0.00%\n",
      "neutral: 0.00%\n",
      "sad: 100.00%\n",
      "\n",
      "✅ True Label: sad\n",
      "🤖 Predicted: sad\n"
     ]
    }
   ],
   "source": [
    "import torch.nn.functional as F\n",
    "\n",
    "# โหลดโมเดล\n",
    "model.load_state_dict(torch.load(\"best_model2.pth\"))\n",
    "model.eval()\n",
    "\n",
    "# ยกตัวอย่าง input เดียวจาก test_loader\n",
    "sample = next(iter(test_loader))\n",
    "inputs = sample['input_features'].to(device)\n",
    "labels = sample['label'].to(device)\n",
    "\n",
    "# ทำ inference\n",
    "with torch.no_grad():\n",
    "    logits = model(inputs)  # shape: [batch_size, num_classes]\n",
    "    probs = F.softmax(logits, dim=1)  # convert logits → probabilities\n",
    "\n",
    "# แสดงผลความน่าจะเป็นของตัวแรกใน batch\n",
    "probs_np = probs[0].cpu().numpy()\n",
    "for i, p in enumerate(probs_np):\n",
    "    print(f\"{label_encoder.inverse_transform([i])[0]}: {p*100:.2f}%\")\n",
    "\n",
    "true_label = label_encoder.inverse_transform([labels[0].cpu().item()])[0]\n",
    "predicted_label = label_encoder.inverse_transform([probs_np.argmax()])[0]\n",
    "\n",
    "print(f\"\\n✅ True Label: {true_label}\")\n",
    "print(f\"🤖 Predicted: {predicted_label}\")\n",
    "\n"
   ]
  }
 ],
 "metadata": {
  "kernelspec": {
   "display_name": "SeniorProject",
   "language": "python",
   "name": "seniorproject"
  },
  "language_info": {
   "codemirror_mode": {
    "name": "ipython",
    "version": 3
   },
   "file_extension": ".py",
   "mimetype": "text/x-python",
   "name": "python",
   "nbconvert_exporter": "python",
   "pygments_lexer": "ipython3",
   "version": "3.13.3"
  }
 },
 "nbformat": 4,
 "nbformat_minor": 2
}
